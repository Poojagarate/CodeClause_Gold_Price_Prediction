{
 "cells": [
  {
   "cell_type": "markdown",
   "id": "b9e23342",
   "metadata": {},
   "source": [
    "# Code Clause Data Science Intern "
   ]
  },
  {
   "cell_type": "markdown",
   "id": "dfc85a37",
   "metadata": {},
   "source": [
    "# Name : Pooja Shantaram Garate"
   ]
  },
  {
   "cell_type": "markdown",
   "id": "f8774878",
   "metadata": {},
   "source": [
    "# Task 2  : Gold Price Prediction"
   ]
  },
  {
   "cell_type": "markdown",
   "id": "390f8b6e",
   "metadata": {},
   "source": [
    "# Import Libraries"
   ]
  },
  {
   "cell_type": "code",
   "execution_count": 1,
   "id": "ace0a106",
   "metadata": {},
   "outputs": [],
   "source": [
    "import pandas as pd\n",
    "import numpy as np\n",
    "import matplotlib.pyplot as plt\n",
    "import seaborn as sns\n",
    "from sklearn.model_selection import train_test_split\n",
    "from sklearn.linear_model import LinearRegression\n",
    "from sklearn import metrics\n",
    "from sklearn.ensemble import RandomForestRegressor"
   ]
  },
  {
   "cell_type": "markdown",
   "id": "c176c0eb",
   "metadata": {},
   "source": [
    "# Import Data"
   ]
  },
  {
   "cell_type": "code",
   "execution_count": 2,
   "id": "157dfb36",
   "metadata": {},
   "outputs": [
    {
     "data": {
      "text/html": [
       "<div>\n",
       "<style scoped>\n",
       "    .dataframe tbody tr th:only-of-type {\n",
       "        vertical-align: middle;\n",
       "    }\n",
       "\n",
       "    .dataframe tbody tr th {\n",
       "        vertical-align: top;\n",
       "    }\n",
       "\n",
       "    .dataframe thead th {\n",
       "        text-align: right;\n",
       "    }\n",
       "</style>\n",
       "<table border=\"1\" class=\"dataframe\">\n",
       "  <thead>\n",
       "    <tr style=\"text-align: right;\">\n",
       "      <th></th>\n",
       "      <th>Date</th>\n",
       "      <th>SPX</th>\n",
       "      <th>GLD</th>\n",
       "      <th>USO</th>\n",
       "      <th>SLV</th>\n",
       "      <th>EUR/USD</th>\n",
       "    </tr>\n",
       "  </thead>\n",
       "  <tbody>\n",
       "    <tr>\n",
       "      <th>0</th>\n",
       "      <td>1/2/2008</td>\n",
       "      <td>1447.160034</td>\n",
       "      <td>84.860001</td>\n",
       "      <td>78.470001</td>\n",
       "      <td>15.180</td>\n",
       "      <td>1.471692</td>\n",
       "    </tr>\n",
       "    <tr>\n",
       "      <th>1</th>\n",
       "      <td>1/3/2008</td>\n",
       "      <td>1447.160034</td>\n",
       "      <td>85.570000</td>\n",
       "      <td>78.370003</td>\n",
       "      <td>15.285</td>\n",
       "      <td>1.474491</td>\n",
       "    </tr>\n",
       "    <tr>\n",
       "      <th>2</th>\n",
       "      <td>1/4/2008</td>\n",
       "      <td>1411.630005</td>\n",
       "      <td>85.129997</td>\n",
       "      <td>77.309998</td>\n",
       "      <td>15.167</td>\n",
       "      <td>1.475492</td>\n",
       "    </tr>\n",
       "    <tr>\n",
       "      <th>3</th>\n",
       "      <td>1/7/2008</td>\n",
       "      <td>1416.180054</td>\n",
       "      <td>84.769997</td>\n",
       "      <td>75.500000</td>\n",
       "      <td>15.053</td>\n",
       "      <td>1.468299</td>\n",
       "    </tr>\n",
       "    <tr>\n",
       "      <th>4</th>\n",
       "      <td>1/8/2008</td>\n",
       "      <td>1390.189941</td>\n",
       "      <td>86.779999</td>\n",
       "      <td>76.059998</td>\n",
       "      <td>15.590</td>\n",
       "      <td>1.557099</td>\n",
       "    </tr>\n",
       "  </tbody>\n",
       "</table>\n",
       "</div>"
      ],
      "text/plain": [
       "       Date          SPX        GLD        USO     SLV   EUR/USD\n",
       "0  1/2/2008  1447.160034  84.860001  78.470001  15.180  1.471692\n",
       "1  1/3/2008  1447.160034  85.570000  78.370003  15.285  1.474491\n",
       "2  1/4/2008  1411.630005  85.129997  77.309998  15.167  1.475492\n",
       "3  1/7/2008  1416.180054  84.769997  75.500000  15.053  1.468299\n",
       "4  1/8/2008  1390.189941  86.779999  76.059998  15.590  1.557099"
      ]
     },
     "execution_count": 2,
     "metadata": {},
     "output_type": "execute_result"
    }
   ],
   "source": [
    "df = pd.read_csv(\"Gold_Price_Data.csv\")\n",
    "df.head(5)"
   ]
  },
  {
   "cell_type": "code",
   "execution_count": 3,
   "id": "95eec6b2",
   "metadata": {},
   "outputs": [
    {
     "data": {
      "text/html": [
       "<div>\n",
       "<style scoped>\n",
       "    .dataframe tbody tr th:only-of-type {\n",
       "        vertical-align: middle;\n",
       "    }\n",
       "\n",
       "    .dataframe tbody tr th {\n",
       "        vertical-align: top;\n",
       "    }\n",
       "\n",
       "    .dataframe thead th {\n",
       "        text-align: right;\n",
       "    }\n",
       "</style>\n",
       "<table border=\"1\" class=\"dataframe\">\n",
       "  <thead>\n",
       "    <tr style=\"text-align: right;\">\n",
       "      <th></th>\n",
       "      <th>Date</th>\n",
       "      <th>SPX</th>\n",
       "      <th>GLD</th>\n",
       "      <th>USO</th>\n",
       "      <th>SLV</th>\n",
       "      <th>EUR/USD</th>\n",
       "    </tr>\n",
       "  </thead>\n",
       "  <tbody>\n",
       "    <tr>\n",
       "      <th>2285</th>\n",
       "      <td>5/8/2018</td>\n",
       "      <td>2671.919922</td>\n",
       "      <td>124.589996</td>\n",
       "      <td>14.0600</td>\n",
       "      <td>15.5100</td>\n",
       "      <td>1.186789</td>\n",
       "    </tr>\n",
       "    <tr>\n",
       "      <th>2286</th>\n",
       "      <td>5/9/2018</td>\n",
       "      <td>2697.790039</td>\n",
       "      <td>124.330002</td>\n",
       "      <td>14.3700</td>\n",
       "      <td>15.5300</td>\n",
       "      <td>1.184722</td>\n",
       "    </tr>\n",
       "    <tr>\n",
       "      <th>2287</th>\n",
       "      <td>5/10/2018</td>\n",
       "      <td>2723.070068</td>\n",
       "      <td>125.180000</td>\n",
       "      <td>14.4100</td>\n",
       "      <td>15.7400</td>\n",
       "      <td>1.191753</td>\n",
       "    </tr>\n",
       "    <tr>\n",
       "      <th>2288</th>\n",
       "      <td>5/14/2018</td>\n",
       "      <td>2730.129883</td>\n",
       "      <td>124.489998</td>\n",
       "      <td>14.3800</td>\n",
       "      <td>15.5600</td>\n",
       "      <td>1.193118</td>\n",
       "    </tr>\n",
       "    <tr>\n",
       "      <th>2289</th>\n",
       "      <td>5/16/2018</td>\n",
       "      <td>2725.780029</td>\n",
       "      <td>122.543800</td>\n",
       "      <td>14.4058</td>\n",
       "      <td>15.4542</td>\n",
       "      <td>1.182033</td>\n",
       "    </tr>\n",
       "  </tbody>\n",
       "</table>\n",
       "</div>"
      ],
      "text/plain": [
       "           Date          SPX         GLD      USO      SLV   EUR/USD\n",
       "2285   5/8/2018  2671.919922  124.589996  14.0600  15.5100  1.186789\n",
       "2286   5/9/2018  2697.790039  124.330002  14.3700  15.5300  1.184722\n",
       "2287  5/10/2018  2723.070068  125.180000  14.4100  15.7400  1.191753\n",
       "2288  5/14/2018  2730.129883  124.489998  14.3800  15.5600  1.193118\n",
       "2289  5/16/2018  2725.780029  122.543800  14.4058  15.4542  1.182033"
      ]
     },
     "execution_count": 3,
     "metadata": {},
     "output_type": "execute_result"
    }
   ],
   "source": [
    "df.tail()"
   ]
  },
  {
   "cell_type": "markdown",
   "id": "4d7144db",
   "metadata": {},
   "source": [
    "# Exploratory Data Analysis [EDA]"
   ]
  },
  {
   "cell_type": "code",
   "execution_count": 4,
   "id": "53216e94",
   "metadata": {},
   "outputs": [
    {
     "data": {
      "text/plain": [
       "(2290, 6)"
      ]
     },
     "execution_count": 4,
     "metadata": {},
     "output_type": "execute_result"
    }
   ],
   "source": [
    "df.shape"
   ]
  },
  {
   "cell_type": "code",
   "execution_count": 5,
   "id": "5418a65b",
   "metadata": {},
   "outputs": [
    {
     "name": "stdout",
     "output_type": "stream",
     "text": [
      "<class 'pandas.core.frame.DataFrame'>\n",
      "RangeIndex: 2290 entries, 0 to 2289\n",
      "Data columns (total 6 columns):\n",
      " #   Column   Non-Null Count  Dtype  \n",
      "---  ------   --------------  -----  \n",
      " 0   Date     2290 non-null   object \n",
      " 1   SPX      2290 non-null   float64\n",
      " 2   GLD      2290 non-null   float64\n",
      " 3   USO      2290 non-null   float64\n",
      " 4   SLV      2290 non-null   float64\n",
      " 5   EUR/USD  2290 non-null   float64\n",
      "dtypes: float64(5), object(1)\n",
      "memory usage: 107.5+ KB\n"
     ]
    }
   ],
   "source": [
    "df.info()"
   ]
  },
  {
   "cell_type": "code",
   "execution_count": 6,
   "id": "a2604a6f",
   "metadata": {},
   "outputs": [
    {
     "data": {
      "text/plain": [
       "Date       0\n",
       "SPX        0\n",
       "GLD        0\n",
       "USO        0\n",
       "SLV        0\n",
       "EUR/USD    0\n",
       "dtype: int64"
      ]
     },
     "execution_count": 6,
     "metadata": {},
     "output_type": "execute_result"
    }
   ],
   "source": [
    "df.isnull().sum()"
   ]
  },
  {
   "cell_type": "markdown",
   "id": "0dc17b86",
   "metadata": {},
   "source": [
    "# Correlation"
   ]
  },
  {
   "cell_type": "code",
   "execution_count": 7,
   "id": "2dcc12f6",
   "metadata": {},
   "outputs": [
    {
     "data": {
      "text/html": [
       "<div>\n",
       "<style scoped>\n",
       "    .dataframe tbody tr th:only-of-type {\n",
       "        vertical-align: middle;\n",
       "    }\n",
       "\n",
       "    .dataframe tbody tr th {\n",
       "        vertical-align: top;\n",
       "    }\n",
       "\n",
       "    .dataframe thead th {\n",
       "        text-align: right;\n",
       "    }\n",
       "</style>\n",
       "<table border=\"1\" class=\"dataframe\">\n",
       "  <thead>\n",
       "    <tr style=\"text-align: right;\">\n",
       "      <th></th>\n",
       "      <th>SPX</th>\n",
       "      <th>GLD</th>\n",
       "      <th>USO</th>\n",
       "      <th>SLV</th>\n",
       "      <th>EUR/USD</th>\n",
       "    </tr>\n",
       "  </thead>\n",
       "  <tbody>\n",
       "    <tr>\n",
       "      <th>SPX</th>\n",
       "      <td>1.000000</td>\n",
       "      <td>0.049345</td>\n",
       "      <td>-0.591573</td>\n",
       "      <td>-0.274055</td>\n",
       "      <td>-0.672017</td>\n",
       "    </tr>\n",
       "    <tr>\n",
       "      <th>GLD</th>\n",
       "      <td>0.049345</td>\n",
       "      <td>1.000000</td>\n",
       "      <td>-0.186360</td>\n",
       "      <td>0.866632</td>\n",
       "      <td>-0.024375</td>\n",
       "    </tr>\n",
       "    <tr>\n",
       "      <th>USO</th>\n",
       "      <td>-0.591573</td>\n",
       "      <td>-0.186360</td>\n",
       "      <td>1.000000</td>\n",
       "      <td>0.167547</td>\n",
       "      <td>0.829317</td>\n",
       "    </tr>\n",
       "    <tr>\n",
       "      <th>SLV</th>\n",
       "      <td>-0.274055</td>\n",
       "      <td>0.866632</td>\n",
       "      <td>0.167547</td>\n",
       "      <td>1.000000</td>\n",
       "      <td>0.321631</td>\n",
       "    </tr>\n",
       "    <tr>\n",
       "      <th>EUR/USD</th>\n",
       "      <td>-0.672017</td>\n",
       "      <td>-0.024375</td>\n",
       "      <td>0.829317</td>\n",
       "      <td>0.321631</td>\n",
       "      <td>1.000000</td>\n",
       "    </tr>\n",
       "  </tbody>\n",
       "</table>\n",
       "</div>"
      ],
      "text/plain": [
       "              SPX       GLD       USO       SLV   EUR/USD\n",
       "SPX      1.000000  0.049345 -0.591573 -0.274055 -0.672017\n",
       "GLD      0.049345  1.000000 -0.186360  0.866632 -0.024375\n",
       "USO     -0.591573 -0.186360  1.000000  0.167547  0.829317\n",
       "SLV     -0.274055  0.866632  0.167547  1.000000  0.321631\n",
       "EUR/USD -0.672017 -0.024375  0.829317  0.321631  1.000000"
      ]
     },
     "execution_count": 7,
     "metadata": {},
     "output_type": "execute_result"
    }
   ],
   "source": [
    "correlation = df.corr()\n",
    "correlation"
   ]
  },
  {
   "cell_type": "code",
   "execution_count": 8,
   "id": "12f3553f",
   "metadata": {},
   "outputs": [
    {
     "data": {
      "text/plain": [
       "<AxesSubplot:>"
      ]
     },
     "execution_count": 8,
     "metadata": {},
     "output_type": "execute_result"
    },
    {
     "data": {
      "image/png": "[encoded data removed]",
      "text/plain": [
       "<Figure size 576x576 with 2 Axes>"
      ]
     },
     "metadata": {
      "needs_background": "light"
     },
     "output_type": "display_data"
    }
   ],
   "source": [
    "plt.figure(figsize=(8,8))\n",
    "sns.heatmap(correlation,annot=True)"
   ]
  },
  {
   "cell_type": "code",
   "execution_count": 9,
   "id": "39f47e1f",
   "metadata": {},
   "outputs": [
    {
     "data": {
      "text/plain": [
       "<seaborn.axisgrid.FacetGrid at 0x1dbd0d27a30>"
      ]
     },
     "execution_count": 9,
     "metadata": {},
     "output_type": "execute_result"
    },
    {
     "data": {
      "image/png": "[encoded data removed]",
      "text/plain": [
       "<Figure size 360x360 with 1 Axes>"
      ]
     },
     "metadata": {
      "needs_background": "light"
     },
     "output_type": "display_data"
    }
   ],
   "source": [
    "sns.displot(df['GLD'],color=\"b\")"
   ]
  },
  {
   "cell_type": "markdown",
   "id": "03780426",
   "metadata": {},
   "source": [
    "# Spliting Data Into Dependent & Independent"
   ]
  },
  {
   "cell_type": "code",
   "execution_count": 10,
   "id": "81d663a3",
   "metadata": {},
   "outputs": [
    {
     "data": {
      "text/plain": [
       "array([[1.44716003e+03, 7.84700010e+01, 1.51800000e+01, 1.47169200e+00],\n",
       "       [1.44716003e+03, 7.83700030e+01, 1.52850000e+01, 1.47449100e+00],\n",
       "       [1.41163000e+03, 7.73099980e+01, 1.51670000e+01, 1.47549200e+00],\n",
       "       ...,\n",
       "       [2.72307007e+03, 1.44100000e+01, 1.57400000e+01, 1.19175300e+00],\n",
       "       [2.73012988e+03, 1.43800000e+01, 1.55600000e+01, 1.19311800e+00],\n",
       "       [2.72578003e+03, 1.44058000e+01, 1.54542000e+01, 1.18203300e+00]])"
      ]
     },
     "execution_count": 10,
     "metadata": {},
     "output_type": "execute_result"
    }
   ],
   "source": [
    "X = df[['SPX','USO','SLV','EUR/USD']]\n",
    "x = X.iloc[:,:].values\n",
    "x"
   ]
  },
  {
   "cell_type": "code",
   "execution_count": 11,
   "id": "218c1042",
   "metadata": {},
   "outputs": [
    {
     "data": {
      "text/plain": [
       "array([ 84.860001,  85.57    ,  85.129997, ..., 125.18    , 124.489998,\n",
       "       122.5438  ])"
      ]
     },
     "execution_count": 11,
     "metadata": {},
     "output_type": "execute_result"
    }
   ],
   "source": [
    "y = df.iloc[:,2].values \n",
    "y"
   ]
  },
  {
   "cell_type": "markdown",
   "id": "55f3ddf2",
   "metadata": {},
   "source": [
    "# Spliting into Training & Testing Data"
   ]
  },
  {
   "cell_type": "code",
   "execution_count": 12,
   "id": "999a8422",
   "metadata": {},
   "outputs": [],
   "source": [
    "x_train,x_test,y_train,y_test = train_test_split(x, y, test_size=0.2, random_state=1)"
   ]
  },
  {
   "cell_type": "code",
   "execution_count": 13,
   "id": "936f905a",
   "metadata": {},
   "outputs": [
    {
     "data": {
      "text/plain": [
       "(1832, 4)"
      ]
     },
     "execution_count": 13,
     "metadata": {},
     "output_type": "execute_result"
    }
   ],
   "source": [
    "x_train.shape"
   ]
  },
  {
   "cell_type": "code",
   "execution_count": 14,
   "id": "e0f6f43f",
   "metadata": {},
   "outputs": [
    {
     "data": {
      "text/plain": [
       "(458, 4)"
      ]
     },
     "execution_count": 14,
     "metadata": {},
     "output_type": "execute_result"
    }
   ],
   "source": [
    "x_test.shape"
   ]
  },
  {
   "cell_type": "code",
   "execution_count": 15,
   "id": "15739095",
   "metadata": {},
   "outputs": [
    {
     "data": {
      "text/plain": [
       "(1832,)"
      ]
     },
     "execution_count": 15,
     "metadata": {},
     "output_type": "execute_result"
    }
   ],
   "source": [
    "y_train.shape"
   ]
  },
  {
   "cell_type": "code",
   "execution_count": 16,
   "id": "ad22ee65",
   "metadata": {},
   "outputs": [
    {
     "data": {
      "text/plain": [
       "(1832,)"
      ]
     },
     "execution_count": 16,
     "metadata": {},
     "output_type": "execute_result"
    }
   ],
   "source": [
    "y_train.shape"
   ]
  },
  {
   "cell_type": "markdown",
   "id": "19f09568",
   "metadata": {},
   "source": [
    "# Linear Regression Model"
   ]
  },
  {
   "cell_type": "code",
   "execution_count": 17,
   "id": "ce52b2a8",
   "metadata": {},
   "outputs": [],
   "source": [
    "lr = LinearRegression()"
   ]
  },
  {
   "cell_type": "code",
   "execution_count": 18,
   "id": "e12eb78e",
   "metadata": {},
   "outputs": [
    {
     "data": {
      "text/plain": [
       "LinearRegression()"
      ]
     },
     "execution_count": 18,
     "metadata": {},
     "output_type": "execute_result"
    }
   ],
   "source": [
    "lr.fit(x_train,y_train)"
   ]
  },
  {
   "cell_type": "code",
   "execution_count": 19,
   "id": "4d0346f9",
   "metadata": {},
   "outputs": [
    {
     "data": {
      "text/plain": [
       "array([121.893539  , 142.52364868, 158.91453793, 114.2187805 ,\n",
       "       110.36659025, 104.50331873, 109.98245681,  92.18483425,\n",
       "       120.90649253, 123.318912  , 191.2074328 , 118.60055338,\n",
       "       112.11950573,  93.46765189, 102.30779779,  97.98184003,\n",
       "       118.85518215,  94.0029039 , 119.86781484, 116.59909644,\n",
       "       122.21215189, 142.45378454, 121.22332281, 120.62860463,\n",
       "       163.30049944, 104.70315921, 125.56912816,  87.10875178,\n",
       "        95.73671386,  86.93309315, 121.81073623, 147.1233332 ,\n",
       "       144.33048658, 121.95542705, 121.2464489 ,  94.5371824 ,\n",
       "       152.31281012, 113.94185408, 110.92710898, 182.21152503,\n",
       "        97.46373243, 128.50200625, 120.48416906, 140.20343573,\n",
       "       120.16866258,  90.96452083,  82.43780029, 123.52782293,\n",
       "       144.52004651, 113.76951398, 123.14800018, 159.28339044,\n",
       "       141.34969761,  88.97598628, 163.39595336, 142.38892627,\n",
       "       109.31495867, 119.81421995,  93.1108709 , 129.67869305,\n",
       "       119.96744889, 142.21550112, 115.80809495, 115.07539756,\n",
       "       151.79900825, 111.10161864, 111.92509756, 140.89627511,\n",
       "       145.61855516, 117.87198864, 114.62345333, 187.25899785,\n",
       "       145.43536821, 161.41558562, 114.18988397, 132.49754796,\n",
       "       111.16755087, 109.30848107, 120.47917639, 121.40491892,\n",
       "       116.00435499,  96.11630876, 131.27113361, 114.43119403,\n",
       "       117.85030877,  95.53999061, 130.05094463, 119.38407911,\n",
       "       124.53437714, 122.59606268, 115.1787942 , 118.68710745,\n",
       "       152.63901818,  84.14101223, 120.87060817, 118.39624487,\n",
       "       128.03396621, 119.20243297, 119.14425157, 119.91859315,\n",
       "       123.61453323, 106.90593028, 149.32895426, 122.56480736,\n",
       "       123.92225354, 131.11817056, 170.1805573 ,  96.72174206,\n",
       "       121.18356825, 123.93609207, 105.80067393, 130.81763357,\n",
       "       121.01521435, 104.61517105, 121.2224091 , 106.60575946,\n",
       "       127.2681336 , 111.94445761, 113.91279289, 178.29068593,\n",
       "       100.29211127, 117.18663788, 115.63397188, 110.48390785,\n",
       "       120.23061664, 157.82315966, 122.17198229, 143.06271772,\n",
       "       121.5624132 , 154.30248258, 122.40105071,  91.73272171,\n",
       "       121.0739105 , 120.88036983, 110.97714331, 117.85878004,\n",
       "       121.65756238, 173.70639193, 121.20435772, 120.25699671,\n",
       "       119.81485401, 119.22662185, 158.75872752, 148.81027396,\n",
       "       160.94927188, 122.73596044, 122.46784515, 151.22434104,\n",
       "       104.95296137,  85.09948326, 117.21766337, 119.58856833,\n",
       "       123.93793188, 120.46585723, 120.50089853, 111.93213937,\n",
       "       113.18422685, 161.35600582, 188.47155233, 159.08514553,\n",
       "       110.84778161, 125.34969241, 122.8246894 , 160.37528806,\n",
       "       125.34276279, 125.11155741, 140.35395806, 125.46878543,\n",
       "       108.99629119, 130.81679072, 145.83974491, 129.50752059,\n",
       "       101.3317168 , 111.48939374, 123.89244066, 147.43146536,\n",
       "       103.19605589, 125.65510054, 105.54951719, 122.21063294,\n",
       "       144.96914694, 113.48053399, 119.21955856, 122.59180098,\n",
       "       113.50182914, 164.79093758, 140.47826013, 155.13415241,\n",
       "       119.11043492, 111.1612933 , 115.5765566 , 109.07933524,\n",
       "       111.05597337, 117.12968202, 146.33725566, 125.29482948,\n",
       "       122.01735428, 172.17272722, 164.70193802,  80.90779946,\n",
       "       120.19140715, 126.33040325, 119.54391475, 112.35803818,\n",
       "       160.29666111, 179.71529065,  80.32811206, 111.75068008,\n",
       "        95.00732586, 125.19446063, 127.2394719 , 113.6462296 ,\n",
       "       119.28700248, 143.11288798, 161.37239402,  94.0594433 ,\n",
       "       122.92687467, 112.7600935 , 115.00702604, 106.00896081,\n",
       "       161.66719074, 130.97441157, 106.19607485, 118.93087718,\n",
       "       109.53498579,  90.52958792, 162.38976313, 120.87614088,\n",
       "       118.46170656, 111.47965419, 124.29056897,  99.50911306,\n",
       "       115.87668768, 116.20464686, 143.98763658, 122.93174742,\n",
       "       161.21260345,  86.54042934, 157.55308619, 120.44179591,\n",
       "       114.83771515, 121.40631465, 118.47674303,  87.25467249,\n",
       "       122.17819088, 120.15227884,  96.85436137, 110.82733265,\n",
       "       121.06808989, 161.25969987, 110.95661339,  94.71203063,\n",
       "       124.57667954, 107.17688157,  97.28164723,  78.86686259,\n",
       "       153.54278608, 109.4464411 , 132.52972705, 101.56628241,\n",
       "       112.86087999, 140.26818731, 148.88146388, 115.06990015,\n",
       "       119.22730107, 149.69155655, 110.81005154, 164.87563762,\n",
       "       182.28419813,  88.34267807, 109.10047143, 142.26021017,\n",
       "       102.47654355, 149.52419695, 109.64464199, 141.48726534,\n",
       "       122.04916215, 123.0249573 , 121.9888099 ,  90.88442831,\n",
       "        82.75151517, 127.29537465, 122.5258863 , 120.22157986,\n",
       "       120.19789629, 141.22081191, 161.80886094, 119.27119548,\n",
       "       145.05430118, 142.34175924, 111.91270937,  95.66114278,\n",
       "       121.80837263, 145.96577999, 154.70121451, 144.10135873,\n",
       "        91.50799532, 148.73685693, 144.72158917, 103.45629687,\n",
       "       145.76091274,  86.77299824, 110.83742422, 125.18983304,\n",
       "       120.10486842, 141.25991761, 123.50675326, 129.2875168 ,\n",
       "       122.15637221, 102.91326806, 115.49997156, 100.17632354,\n",
       "       158.71759096, 148.66931542,  91.83259887, 130.05716258,\n",
       "       115.24490858, 155.9727481 , 119.4286435 , 104.57936368,\n",
       "       111.80532195, 113.59182526, 108.80340346,  79.77954681,\n",
       "        97.34768795, 116.56715202,  92.51847   , 108.89110733,\n",
       "       163.24042206, 157.91956079,  94.49193094, 161.91516255,\n",
       "        92.88471043, 118.37639445, 106.86049567, 121.9959432 ,\n",
       "       121.39476459, 119.03959822, 112.21237472, 127.43824184,\n",
       "       108.47905429, 151.98143739, 106.04185001, 123.82281282,\n",
       "       143.97924296, 160.04001166,  97.68943153,  94.55986406,\n",
       "       123.00237781,  94.65142171, 121.9584228 , 120.20108694,\n",
       "       169.30345298, 121.3380092 , 105.88302438, 152.58530848,\n",
       "        76.72935178, 118.60111882,  78.15825078, 116.72271499,\n",
       "       149.34330776, 138.05462745, 154.86569084, 117.03143748,\n",
       "       105.81485898, 142.45883207, 122.16506218, 153.89085298,\n",
       "       167.9755441 , 122.8992575 , 124.34510512, 109.27485851,\n",
       "       116.96033819, 123.04532469, 126.70575846, 152.06171606,\n",
       "        97.57033793, 159.24507415, 108.81674823, 118.9593623 ,\n",
       "       139.52454664, 117.20768505, 155.82277102, 118.52249064,\n",
       "       114.91007427, 131.44158249, 133.22283998, 115.91435319,\n",
       "       122.02689588, 122.40153797, 120.38745151, 111.86807801,\n",
       "       112.38258752,  80.30405571, 149.1970171 , 145.74596131,\n",
       "        92.26862613, 162.87370385, 140.49277053, 115.14648728,\n",
       "       113.73639442, 126.05147512, 152.87814705, 138.05711625,\n",
       "       123.96980134, 158.89130987, 153.9624448 , 123.20941919,\n",
       "       123.84179422, 122.24728569, 120.00758243, 140.5145255 ,\n",
       "        92.43270517, 111.50287291, 124.26577638, 155.21786142,\n",
       "       139.72170116,  96.27371079, 149.34223995, 116.02963226,\n",
       "       103.30165966, 122.61368894, 164.06803336, 120.73734866,\n",
       "       121.22627506, 114.79612506,  84.14393988, 118.6940176 ,\n",
       "       111.92311004, 150.98498399, 120.95105105, 120.30262401,\n",
       "       124.00400963,  98.52573323, 127.27612198, 146.60863372,\n",
       "       111.46538332,  92.70579362, 120.02984531,  96.81857708,\n",
       "       121.77854312, 117.14764776, 121.56275821, 106.1833252 ,\n",
       "       126.08059861, 162.87902302, 160.90222642, 130.40982522,\n",
       "       160.54407161, 104.63138943, 117.91694447, 123.91026744,\n",
       "       118.94325186, 114.17707869, 105.19389351, 126.55732904,\n",
       "       154.58311636, 116.00920198])"
      ]
     },
     "execution_count": 19,
     "metadata": {},
     "output_type": "execute_result"
    }
   ],
   "source": [
    "y_pred = lr.predict(x_test)\n",
    "y_pred"
   ]
  },
  {
   "cell_type": "code",
   "execution_count": 20,
   "id": "de75b1b0",
   "metadata": {},
   "outputs": [
    {
     "name": "stdout",
     "output_type": "stream",
     "text": [
      "R-Squared Error for lr : 0.8696713120900417\n"
     ]
    }
   ],
   "source": [
    "accuracy = metrics.r2_score(y_test, y_pred)\n",
    "print('R-Squared Error for lr :', accuracy)"
   ]
  },
  {
   "cell_type": "markdown",
   "id": "1290f4a4",
   "metadata": {},
   "source": [
    "# Random Forest Model"
   ]
  },
  {
   "cell_type": "code",
   "execution_count": 21,
   "id": "9056bc33",
   "metadata": {},
   "outputs": [],
   "source": [
    "rf = RandomForestRegressor(n_estimators=100)"
   ]
  },
  {
   "cell_type": "code",
   "execution_count": 22,
   "id": "b577b054",
   "metadata": {},
   "outputs": [
    {
     "data": {
      "text/plain": [
       "RandomForestRegressor()"
      ]
     },
     "execution_count": 22,
     "metadata": {},
     "output_type": "execute_result"
    }
   ],
   "source": [
    "rf.fit(x_train,y_train)"
   ]
  },
  {
   "cell_type": "code",
   "execution_count": 23,
   "id": "69be39ac",
   "metadata": {},
   "outputs": [
    {
     "data": {
      "text/plain": [
       "array([113.67650044, 147.86120114, 141.52159862, 112.56840191,\n",
       "       113.57109967,  95.69439926, 111.82449968,  93.35139919,\n",
       "       120.79540101, 127.03729934, 147.92479945, 120.42399895,\n",
       "       119.10160054,  88.15480093,  96.12020033,  92.64779843,\n",
       "       116.44690032,  89.33689908, 125.43610139, 114.69710031,\n",
       "       118.97839964, 153.00590217, 122.76989805, 120.08509974,\n",
       "       171.49559975, 108.45299839, 120.54940051,  87.23399861,\n",
       "        87.86980037,  88.49629883, 121.26630099, 154.27030189,\n",
       "       148.4601993 , 125.97570005, 126.60459999,  90.81069864,\n",
       "       154.99999986, 121.3684018 , 106.79320061, 144.14939705,\n",
       "        92.59629917, 127.68260083, 117.36900062, 152.7209014 ,\n",
       "       119.22449933,  91.43140197,  79.59869986, 120.35660149,\n",
       "       132.15450043, 119.05419969, 127.22730068, 165.6957008 ,\n",
       "       153.47320058,  92.6636993 , 148.53289983, 152.41479906,\n",
       "       112.95470098, 112.86380044,  87.35689929, 127.83199917,\n",
       "       125.27740093, 151.78870272, 114.46810004, 110.62380033,\n",
       "       160.98199707, 117.33039868, 108.38140128, 132.05189987,\n",
       "       133.06760083, 125.39460044, 117.11810001, 149.43860165,\n",
       "       156.07340035, 168.88549583, 110.13490075, 141.08489826,\n",
       "       102.02059842, 114.9859005 , 120.02280045, 123.92589938,\n",
       "       117.87600071,  92.20340049, 140.59859968, 107.15010027,\n",
       "       125.35939982,  92.38609936, 133.06340384, 125.32130033,\n",
       "       125.61419999, 125.80049889, 113.36779998, 120.24629953,\n",
       "       161.00590169,  80.50020011, 117.66440085, 115.32000047,\n",
       "       135.1672008 , 109.48440003, 108.900599  , 126.41970052,\n",
       "       127.67830005, 110.33299837, 160.30989989, 123.1397001 ,\n",
       "       120.97210012, 128.37089829, 147.94869698,  92.43699817,\n",
       "       124.56469913, 119.46139974, 108.94189931, 134.88169935,\n",
       "       120.81420093,  98.02699727, 115.36259993, 110.01439847,\n",
       "       126.14890012, 113.79750113, 107.15950103, 174.07799927,\n",
       "        96.59840221, 126.63649817, 112.08769824, 112.38059985,\n",
       "       124.74969936, 167.65979835, 114.64360059, 135.12569727,\n",
       "       125.69509987, 163.60119964, 120.17939979,  88.86529932,\n",
       "       127.17239929, 127.68400083, 115.29109955, 122.76139879,\n",
       "       126.03850021, 165.49569763, 112.05390128, 119.91510035,\n",
       "       126.45790092, 126.6831001 , 167.63549828, 160.67150074,\n",
       "       170.90310288, 121.35030108, 121.71410056, 163.81920066,\n",
       "        99.05479914,  80.06699966, 115.98190122, 113.23030035,\n",
       "       118.34780046, 113.45080059, 120.36270019, 120.011501  ,\n",
       "       104.45689909, 170.71100256, 143.9529955 , 167.24209795,\n",
       "       118.01910155, 125.78930112, 126.04690023, 168.29599944,\n",
       "       117.39660072, 132.96030308, 136.00880027, 132.61850149,\n",
       "       113.47040091, 133.3876007 , 153.91490132, 136.92359839,\n",
       "        96.16570071, 108.27280152, 124.51340013, 150.02470144,\n",
       "        98.98169969, 131.40130176, 104.62399948, 121.25469827,\n",
       "       145.12350048, 109.56440233, 127.22049991, 127.22799879,\n",
       "       113.19390105, 139.44500236, 151.81819995, 165.03850012,\n",
       "       119.79269964, 104.7396017 , 115.30749995, 113.89680116,\n",
       "       106.98239981, 123.92280072, 153.83140308, 128.97840172,\n",
       "       126.05249995, 148.89979713, 143.25599973,  84.40649866,\n",
       "       124.93009967, 126.14250005, 124.7349016 , 105.67730073,\n",
       "       170.10080247, 176.58469736,  77.5090005 , 119.16070079,\n",
       "        93.0855004 , 118.50359943, 125.63810132, 117.79909985,\n",
       "       124.29410016, 154.24810007, 150.06060202,  91.58050086,\n",
       "       131.24359875, 108.61109823, 110.19669896, 109.27769999,\n",
       "       168.62709541, 128.8847979 , 103.46099899, 123.93299906,\n",
       "       111.59269974,  90.02409859, 146.1247983 , 121.31269997,\n",
       "       119.56770081, 104.35789931, 125.19860023,  94.12380103,\n",
       "       121.9453009 , 116.39399963, 135.0473997 , 124.44217697,\n",
       "       170.54420266,  83.1955988 , 166.87429862, 124.07390036,\n",
       "       110.08870012, 126.08899988, 122.81259844,  83.22319866,\n",
       "       124.2979988 , 113.53410066,  90.90359821, 113.2009002 ,\n",
       "       112.28490105, 169.89870174, 107.16749916,  91.52439927,\n",
       "       118.93679985, 109.4400982 ,  90.31330056,  76.00590053,\n",
       "       161.17630036, 114.66060069, 141.34640149,  96.69530039,\n",
       "       120.91240018, 151.51140031, 160.10210104, 113.61130074,\n",
       "       116.10330108, 151.71110075, 118.00589825, 150.11910087,\n",
       "       177.14449726,  87.57860012, 112.61759938, 153.20190056,\n",
       "       108.41049929, 157.75120248, 114.76780101, 138.85089918,\n",
       "       121.85790026, 115.69349815, 114.3939012 ,  85.9507996 ,\n",
       "        75.6927981 , 132.46439947, 120.29060033, 118.65130049,\n",
       "       111.59090068, 153.89950083, 151.66170042, 123.19289944,\n",
       "       139.21270088, 152.93890196, 106.65349997,  91.9170993 ,\n",
       "       121.91610085, 155.24020082, 161.8269986 , 156.48810243,\n",
       "        90.16409942, 135.08160415, 152.44869996, 108.74449874,\n",
       "       152.93400097,  85.24960006, 116.81110171, 119.71330029,\n",
       "       128.0776031 , 151.28250167, 116.98089981, 127.94900061,\n",
       "       114.64840154, 103.41789888, 114.23350043,  95.46260042,\n",
       "       167.63579829, 149.33730068,  87.17219805, 128.18630076,\n",
       "       111.25209835, 164.47590181, 121.54199941, 107.78729967,\n",
       "       103.09950023, 115.31679961, 112.03040055,  76.27250011,\n",
       "        91.48389851, 122.29059934,  87.46369894, 112.36930069,\n",
       "       171.79180146, 164.91430127,  90.93549886, 139.33729883,\n",
       "        89.96600134, 118.35810039, 108.9196016 , 125.18449898,\n",
       "       118.16600109, 124.35149976, 107.22250113, 130.73289905,\n",
       "       114.2168001 , 159.87509949, 108.40329888, 116.40299968,\n",
       "       153.83249991, 147.13660057,  94.25919989,  90.95099892,\n",
       "       125.05090007,  87.867199  , 114.33720126, 114.78970107,\n",
       "       165.46629811, 120.91910025, 106.47269908, 160.06019895,\n",
       "        77.57470002, 124.51529902,  76.04130048, 124.17529978,\n",
       "       158.82490109, 131.0990019 , 161.27740111, 120.59129954,\n",
       "       106.15129987, 155.2947036 , 125.77039945, 157.91379986,\n",
       "       140.23389931, 131.54100025, 132.59910287, 114.40370065,\n",
       "       114.01279891, 126.68129937, 129.23759887, 162.56020022,\n",
       "        89.69450097, 168.20539955, 111.75119946, 118.80170121,\n",
       "       136.37280057, 121.67770223, 163.87060085, 120.59760167,\n",
       "       114.44280083, 141.03819945, 131.70070242, 114.41150013,\n",
       "       119.97370028, 125.53689938, 124.89349897, 107.13900058,\n",
       "       104.13209939,  72.08550178, 159.89810174, 150.90970069,\n",
       "        86.29620049, 157.29600073, 153.55210328, 121.78330107,\n",
       "       114.11050123, 121.27510047, 162.17879803, 131.28800095,\n",
       "       118.35979976, 156.38950125, 163.27690235, 124.42229966,\n",
       "       127.05679949, 125.43029971, 120.08229945, 151.53290065,\n",
       "        87.24299912, 103.07319878, 132.38720126, 163.34660234,\n",
       "       131.31780064,  88.95399978, 161.0532014 , 116.17810033,\n",
       "        97.0512983 , 127.28079996, 139.74239929, 122.21490009,\n",
       "       119.26269942, 111.32070038,  76.80870007, 122.00520049,\n",
       "       102.57959855, 160.28719819, 117.18420044, 126.38480102,\n",
       "       126.08700018,  93.8699998 , 132.64769793, 156.77029931,\n",
       "       102.99649989,  93.48299952, 127.09700076,  92.98290116,\n",
       "       113.34790067, 126.25229874, 122.38469926, 108.16109837,\n",
       "       119.02340114, 148.17709922, 148.65810215, 134.13800011,\n",
       "       167.8963015 , 101.03359923, 117.88350067, 127.46910105,\n",
       "       114.92340163, 115.52379927, 101.41469859, 129.58219856,\n",
       "       164.8176991 , 119.11460263])"
      ]
     },
     "execution_count": 23,
     "metadata": {},
     "output_type": "execute_result"
    }
   ],
   "source": [
    "y_pred = rf.predict(x_test)\n",
    "y_pred"
   ]
  },
  {
   "cell_type": "code",
   "execution_count": 24,
   "id": "658605b4",
   "metadata": {},
   "outputs": [
    {
     "name": "stdout",
     "output_type": "stream",
     "text": [
      "R-Squared Error for rf : 0.9881284652923014\n"
     ]
    }
   ],
   "source": [
    "accuracy = metrics.r2_score(y_test, y_pred)\n",
    "print('R-Squared Error for rf :', accuracy)"
   ]
  }
 ],
 "metadata": {
  "kernelspec": {
   "display_name": "Python 3 (ipykernel)",
   "language": "python",
   "name": "python3"
  },
  "language_info": {
   "codemirror_mode": {
    "name": "ipython",
    "version": 3
   },
   "file_extension": ".py",
   "mimetype": "text/x-python",
   "name": "python",
   "nbconvert_exporter": "python",
   "pygments_lexer": "ipython3",
   "version": "3.9.7"
  }
 },
 "nbformat": 4,
 "nbformat_minor": 5
}
